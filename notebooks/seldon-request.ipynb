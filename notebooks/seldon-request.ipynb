{
 "cells": [
  {
   "cell_type": "code",
   "execution_count": null,
   "id": "ba2082c7-5f48-4c28-8785-f5e64148d407",
   "metadata": {},
   "outputs": [],
   "source": [
    "import requests\n",
    "import json"
   ]
  },
  {
   "cell_type": "markdown",
   "id": "d7529b16-f4b5-4586-86e6-19bd4d6247e2",
   "metadata": {},
   "source": [
    "## Internal Service Request"
   ]
  },
  {
   "cell_type": "code",
   "execution_count": null,
   "id": "33de6c0d-9ab6-4b4c-8ac4-11e1e9fd56ad",
   "metadata": {},
   "outputs": [],
   "source": [
    "base_url = \"http://iris-seldon-example:8000\"\n",
    "predict_url = f\"{base_url}/api/v1.0/predictions\"\n",
    "headers = {'Content-Type': 'application/json'}"
   ]
  },
  {
   "cell_type": "code",
   "execution_count": null,
   "id": "03eb7f72-91d5-491b-852f-8b93d45dde06",
   "metadata": {},
   "outputs": [],
   "source": [
    "X = [[5,3,1.6,0.2]]\n",
    "columns = ['sepal length', 'sepal width', 'petal length', 'petal width']\n",
    "\n",
    "data_obj = json.dumps({\"data\": { \"names\": columns, \"ndarray\": X}})\n",
    "\n",
    "r = requests.post(predict_url, headers=headers, data=data_obj)\n",
    "\n",
    "print(f\"{r.status_code}: {r.text}\")"
   ]
  },
  {
   "cell_type": "code",
   "execution_count": null,
   "id": "becbe76f-ba3f-4f61-ba5a-4cb9ded04608",
   "metadata": {},
   "outputs": [],
   "source": [
    "X = [[5.9,3.0,5.1,1.8]]\n",
    "\n",
    "columns = ['sepal length', 'sepal width', 'petal length', 'petal width']\n",
    "\n",
    "data_obj = json.dumps({\"data\": { \"names\": columns, \"ndarray\": X}})\n",
    "\n",
    "r = requests.post(predict_url, headers=headers, data=data_obj)\n",
    "\n",
    "print(f\"{r.status_code}: {r.text}\")"
   ]
  },
  {
   "cell_type": "code",
   "execution_count": null,
   "id": "f80513d3-e2c1-4fe2-ad74-d796f34ae3b2",
   "metadata": {},
   "outputs": [],
   "source": [
    "X = [[5.4,3.9,1.3,0.4]]\n",
    "\n",
    "columns = ['sepal length', 'sepal width', 'petal length', 'petal width']\n",
    "\n",
    "data_obj = json.dumps({\"data\": { \"names\": columns, \"ndarray\": X}})\n",
    "\n",
    "r = requests.post(predict_url, headers=headers, data=data_obj)\n",
    "\n",
    "print(f\"{r.status_code}: {r.text}\")"
   ]
  },
  {
   "cell_type": "markdown",
   "id": "6a5b53eb-d9be-45f0-ac1e-adf777526447",
   "metadata": {},
   "source": [
    "## Route Based Service Request"
   ]
  },
  {
   "cell_type": "code",
   "execution_count": null,
   "id": "a4277d81-fe31-42b4-8749-e11cf4935d04",
   "metadata": {},
   "outputs": [],
   "source": [
    "base_url = \"https://seldon-iris-seldon-demo.apps.cluster-kmmjn.kmmjn.sandbox1150.opentlc.com\"\n",
    "predict_url = f\"{base_url}/api/v1.0/predictions\"\n",
    "headers = {'Content-Type': 'application/json'}"
   ]
  }
 ],
 "metadata": {
  "kernelspec": {
   "display_name": "Python 3",
   "language": "python",
   "name": "python3"
  },
  "language_info": {
   "codemirror_mode": {
    "name": "ipython",
    "version": 3
   },
   "file_extension": ".py",
   "mimetype": "text/x-python",
   "name": "python",
   "nbconvert_exporter": "python",
   "pygments_lexer": "ipython3",
   "version": "3.8.6"
  }
 },
 "nbformat": 4,
 "nbformat_minor": 5
}
